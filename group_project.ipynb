{
 "metadata": {
  "language_info": {
   "codemirror_mode": {
    "name": "ipython",
    "version": 3
   },
   "file_extension": ".py",
   "mimetype": "text/x-python",
   "name": "python",
   "nbconvert_exporter": "python",
   "pygments_lexer": "ipython3",
   "version": "3.6.8-final"
  },
  "orig_nbformat": 2,
  "kernelspec": {
   "name": "python3",
   "display_name": "Python 3"
  }
 },
 "nbformat": 4,
 "nbformat_minor": 2,
 "cells": [
  {
   "cell_type": "code",
   "execution_count": 1,
   "metadata": {},
   "outputs": [],
   "source": [
    "import dataextractor as de\n",
    "import numpy as np\n",
    "import matplotlib.pyplot as plt\n",
    "from sklearn.preprocessing import MinMaxScaler\n",
    "from sklearn.neural_network import MLPRegressor\n",
    "from sklearn.model_selection import train_test_split\n"
   ]
  },
  {
   "cell_type": "code",
   "execution_count": 2,
   "metadata": {},
   "outputs": [
    {
     "output_type": "stream",
     "name": "stdout",
     "text": [
      "7033\n15\n"
     ]
    }
   ],
   "source": [
    "extr = de.DataExtractor()\n",
    "data = extr.load_json().to_array()\n",
    "\n",
    "print(len(data))\n",
    "print(len(data[0]))\n",
    "\n",
    "\n",
    "\n",
    "# Acousticiness [0]\n",
    "# Dancibility [1]\n",
    "# Duration [2]\n",
    "# Energy [3]\n",
    "# Explicit [4]\n",
    "# Instrumentalness [5]\n",
    "# Key [6]\n",
    "# Liveness [7]\n",
    "# Loudness [8]\n",
    "# Mode [9]\n",
    "# Speechiness [10]\n",
    "# Tempo [11]\n",
    "# Time signature [12]\n",
    "# Valence [13]\\\n",
    "# Pop [14]"
   ]
  },
  {
   "cell_type": "code",
   "execution_count": 3,
   "metadata": {},
   "outputs": [
    {
     "output_type": "stream",
     "name": "stdout",
     "text": [
      "[ 3.35000e-06  4.55000e-01  2.31826e+05  9.63000e-01  0.00000e+00\n  1.51000e-02  0.00000e+00  3.14000e-01 -3.08400e+00  1.00000e+00\n  3.43000e-02  1.44996e+02  4.00000e+00  7.88000e-01  0.00000e+00]\n"
     ]
    }
   ],
   "source": [
    "print(data[0])\n",
    "labels = data[:,-1]\n",
    "data = data[:,:-1]\n",
    "data = extr.normalize(data)"
   ]
  },
  {
   "cell_type": "code",
   "execution_count": 4,
   "metadata": {
    "tags": []
   },
   "outputs": [
    {
     "output_type": "stream",
     "name": "stdout",
     "text": [
      "0.8447981807845367\n"
     ]
    }
   ],
   "source": [
    "new_labels = extr.catagorize(labels, .75)\n",
    "\n",
    "from sklearn.neural_network import MLPClassifier\n",
    "from sklearn.datasets import make_classification\n",
    "from sklearn.model_selection import train_test_split\n",
    "\n",
    "X_train, X_test, y_train, y_test = train_test_split(data, new_labels, stratify=new_labels, random_state=1)\n",
    "\n",
    "clf = MLPClassifier(nesterovs_momentum=True, random_state=1, max_iter=500).fit(X_train, y_train)\n",
    "accuracy = clf.score(X_test, y_test)\n",
    "print(accuracy)"
   ]
  },
  {
   "cell_type": "code",
   "execution_count": 5,
   "metadata": {},
   "outputs": [
    {
     "output_type": "stream",
     "name": "stdout",
     "text": [
      "4923\n2110\n"
     ]
    }
   ],
   "source": [
    "X_train, X_test, y_train, y_test = train_test_split(data, labels, random_state=1, test_size=.3)\n",
    "print(len(X_train))\n",
    "print(len(X_test))"
   ]
  },
  {
   "cell_type": "code",
   "execution_count": 6,
   "metadata": {},
   "outputs": [
    {
     "output_type": "stream",
     "name": "stdout",
     "text": [
      "0.046990560016923144\n"
     ]
    }
   ],
   "source": [
    "#First MLP!!!\n",
    "clf = MLPRegressor().fit(X_train, y_train)\n",
    "accuracy = clf.score(X_test, y_test)\n",
    "print(accuracy)"
   ]
  },
  {
   "cell_type": "code",
   "execution_count": 7,
   "metadata": {},
   "outputs": [
    {
     "output_type": "stream",
     "name": "stdout",
     "text": [
      "0.051454536344489155\n"
     ]
    }
   ],
   "source": [
    "X_train, X_test, y_train, y_test = train_test_split(data, labels,\n",
    "                                                    random_state=1)\n",
    "regr = MLPRegressor(random_state=1, max_iter=500).fit(X_train, y_train)\n",
    "accuracy = clf.score(X_test, y_test)\n",
    "print(accuracy)"
   ]
  },
  {
   "cell_type": "code",
   "execution_count": 8,
   "metadata": {},
   "outputs": [
    {
     "output_type": "execute_result",
     "data": {
      "text/plain": [
       "'\\nindexis = []\\naccuracies = []\\nindex = -1\\nmax_accuracy = 0\\nimproved = False\\n\\nfor iter in range(len(X_train[0]) - 1):\\n    improved = False\\n    if iter != 0:\\n        X_train_subset = X_train[:,indexis[0]]\\n        X_test_subset = X_test[:,indexis[0]]\\n        X_train_subset = X_train_subset.reshape(-1, 1)\\n        X_test_subset = X_test_subset.reshape(-1, 1)\\n        for j in range(1, len(indexis)):\\n            X_train_subset = np.concatenate((X_train_subset, X_train[:, indexis[j]].reshape(-1, 1)), axis=1)\\n            X_test_subset = np.concatenate((X_test_subset, X_test[:, indexis[j]].reshape(-1, 1)), axis=1)\\n    for i in range(len(X_train[0])):\\n        if not i in indexis:\\n            if iter == 0:\\n                X_train_sub = X_train[:,i]\\n                X_test_sub = X_test[:,i]\\n                X_train_sub = X_train_sub.reshape(-1, 1)\\n                X_test_sub = X_test_sub.reshape(-1, 1)\\n            else:\\n                X_train_sub = np.concatenate((X_train_subset, X_train[:,i].reshape(-1, 1)), axis=1)\\n                X_test_sub =  np.concatenate(( X_test_subset,  X_test[:,i].reshape(-1, 1)), axis=1)\\n\\n            regr = MLPRegressor(random_state=1, max_iter=500).fit(X_train_sub, y_train)\\n            accuracy = regr.score(X_test_sub, y_test)\\n            print(\"Indexis: \" + str(indexis) + \" Test index: \" + str(i) + \" Acc: \" + str(accuracy))\\n            if accuracy > max_accuracy:\\n                improved = True\\n                max_accuracy = accuracy\\n                index = i\\n    if not improved:\\n        break\\n    indexis.append(index)\\n    accuracies.append(max_accuracy)\\n'"
      ]
     },
     "metadata": {},
     "execution_count": 8
    }
   ],
   "source": [
    "X_train, X_test, y_train, y_test = train_test_split(data, labels, random_state=1)\n",
    "\"\"\"\n",
    "indexis = []\n",
    "accuracies = []\n",
    "index = -1\n",
    "max_accuracy = 0\n",
    "improved = False\n",
    "\n",
    "for iter in range(len(X_train[0]) - 1):\n",
    "    improved = False\n",
    "    if iter != 0:\n",
    "        X_train_subset = X_train[:,indexis[0]]\n",
    "        X_test_subset = X_test[:,indexis[0]]\n",
    "        X_train_subset = X_train_subset.reshape(-1, 1)\n",
    "        X_test_subset = X_test_subset.reshape(-1, 1)\n",
    "        for j in range(1, len(indexis)):\n",
    "            X_train_subset = np.concatenate((X_train_subset, X_train[:, indexis[j]].reshape(-1, 1)), axis=1)\n",
    "            X_test_subset = np.concatenate((X_test_subset, X_test[:, indexis[j]].reshape(-1, 1)), axis=1)\n",
    "    for i in range(len(X_train[0])):\n",
    "        if not i in indexis:\n",
    "            if iter == 0:\n",
    "                X_train_sub = X_train[:,i]\n",
    "                X_test_sub = X_test[:,i]\n",
    "                X_train_sub = X_train_sub.reshape(-1, 1)\n",
    "                X_test_sub = X_test_sub.reshape(-1, 1)\n",
    "            else:\n",
    "                X_train_sub = np.concatenate((X_train_subset, X_train[:,i].reshape(-1, 1)), axis=1)\n",
    "                X_test_sub =  np.concatenate(( X_test_subset,  X_test[:,i].reshape(-1, 1)), axis=1)\n",
    "\n",
    "            regr = MLPRegressor(random_state=1, max_iter=500).fit(X_train_sub, y_train)\n",
    "            accuracy = regr.score(X_test_sub, y_test)\n",
    "            print(\"Indexis: \" + str(indexis) + \" Test index: \" + str(i) + \" Acc: \" + str(accuracy))\n",
    "            if accuracy > max_accuracy:\n",
    "                improved = True\n",
    "                max_accuracy = accuracy\n",
    "                index = i\n",
    "    if not improved:\n",
    "        break\n",
    "    indexis.append(index)\n",
    "    accuracies.append(max_accuracy)\n",
    "\"\"\""
   ]
  },
  {
   "cell_type": "code",
   "execution_count": 9,
   "metadata": {},
   "outputs": [
    {
     "output_type": "stream",
     "name": "stdout",
     "text": [
      "0.051454536344489155\n"
     ]
    }
   ],
   "source": [
    "X_train, X_test, y_train, y_test = train_test_split(data, labels,\n",
    "                                                    random_state=1)\n",
    "regr = MLPRegressor(random_state=1, max_iter=500).fit(X_train, y_train)\n",
    "accuracy = clf.score(X_test, y_test)\n",
    "print(accuracy)"
   ]
  },
  {
   "cell_type": "code",
   "execution_count": 22,
   "metadata": {
    "tags": []
   },
   "outputs": [
    {
     "output_type": "stream",
     "name": "stdout",
     "text": [
      "5274\n5274\n1759\n1759\n0.6970041714069017\n1.0\n"
     ]
    }
   ],
   "source": [
    "new_labels_yo = extr.catagorize(labels, .50)\n",
    "X_train, X_test, y_train, y_test = train_test_split(data, new_labels_yo)\n",
    "print(len(y_train))\n",
    "print(len(y_test))\n",
    "ones = 0\n",
    "otherones = 0\n",
    "for i in range(len(labels)):\n",
    "    #print(labels[i], \" : \", new_labels_yo[i])\n",
    "    if new_labels_yo[i] == 1:\n",
    "        ones += 1\n",
    "\n",
    "print(ones / len(labels))"
   ]
  },
  {
   "cell_type": "code",
   "execution_count": 11,
   "metadata": {},
   "outputs": [],
   "source": [
    "#from sklearn.neural_network import MLPClassifier\n",
    "#from sklearn.datasets import make_classification\n",
    "#from sklearn.model_selection import train_test_split\n",
    "\n",
    "#popularity_perc = [.1, .2, .3, .4, .5, .6, .7, .8, .9]\n",
    "#averages = []\n",
    "#averaging = 5\n",
    "#for per in popularity_perc:\n",
    "#    average = 0\n",
    "#    for i in range(averaging):\n",
    "#        new_labels = extr.catagorize(labels, per)\n",
    "#        X_train, X_test, y_train, y_test = train_test_split(data, new_labels, stratify=new_labels)\n",
    "#        clf = MLPClassifier(nesterovs_momentum=True, random_state=1, max_iter=500).fit(X_train, y_train)\n",
    "#        accuracy = clf.score(X_test, y_test)\n",
    "#        average += accuracy\n",
    "#    average = average / averaging\n",
    "#    averages.append(average)\n",
    "#    print(average)\n",
    "#print(averages)"
   ]
  },
  {
   "cell_type": "code",
   "execution_count": null,
   "metadata": {},
   "outputs": [],
   "source": []
  }
 ]
}