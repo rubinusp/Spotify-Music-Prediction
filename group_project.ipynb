{
 "metadata": {
  "language_info": {
   "codemirror_mode": {
    "name": "ipython",
    "version": 3
   },
   "file_extension": ".py",
   "mimetype": "text/x-python",
   "name": "python",
   "nbconvert_exporter": "python",
   "pygments_lexer": "ipython3",
   "version": "3.6.8-final"
  },
  "orig_nbformat": 2,
  "kernelspec": {
   "name": "python3",
   "display_name": "Python 3"
  }
 },
 "nbformat": 4,
 "nbformat_minor": 2,
 "cells": [
  {
   "cell_type": "code",
   "execution_count": 1,
   "metadata": {},
   "outputs": [],
   "source": [
    "import dataextractor as de\n",
    "import numpy as np\n",
    "import matplotlib.pyplot as plt\n",
    "from sklearn.preprocessing import MinMaxScaler\n",
    "from sklearn.neural_network import MLPRegressor\n",
    "from sklearn.model_selection import train_test_split\n"
   ]
  },
  {
   "cell_type": "code",
   "execution_count": 2,
   "metadata": {},
   "outputs": [
    {
     "output_type": "stream",
     "name": "stdout",
     "text": [
      "7033\n15\n"
     ]
    }
   ],
   "source": [
    "extr = de.DataExtractor()\n",
    "data = extr.load_json().to_array()\n",
    "\n",
    "print(len(data))\n",
    "print(len(data[0]))\n",
    "\n",
    "# Acousticiness [0]\n",
    "# Dancibility [1]\n",
    "# Duration [2]\n",
    "# Energy [3]\n",
    "# Explicit [4]\n",
    "# Instrumentalness [5]\n",
    "# Key [6]\n",
    "# Liveness [7]\n",
    "# Loudness [8]\n",
    "# Mode [9]\n",
    "#d\n",
    "# Speechiness [11]\n",
    "# Tempo [12]\n",
    "# Time signature [13]\n",
    "# Valence [14]"
   ]
  },
  {
   "cell_type": "code",
   "execution_count": 3,
   "metadata": {},
   "outputs": [
    {
     "output_type": "stream",
     "name": "stdout",
     "text": [
      "[ 3.35000e-06  4.55000e-01  2.31826e+05  9.63000e-01  0.00000e+00\n  1.51000e-02  0.00000e+00  3.14000e-01 -3.08400e+00  1.00000e+00\n  3.43000e-02  1.44996e+02  4.00000e+00  7.88000e-01  0.00000e+00]\n[0.         0.47101449 0.23109722 0.96677406 0.         0.01526795\n 0.         0.31749242 0.91295173 1.         0.03668449 0.67121563\n 0.8        0.79515641]\n0.0\n"
     ]
    }
   ],
   "source": [
    "print(data[0])\n",
    "labels = data[:,-1]\n",
    "data = data[:,:-1]\n",
    "data = extr.normalize(data)\n",
    "print(data[0])\n",
    "print(labels[0])"
   ]
  },
  {
   "cell_type": "code",
   "execution_count": 4,
   "metadata": {},
   "outputs": [
    {
     "output_type": "stream",
     "name": "stdout",
     "text": [
      "4923\n2110\n"
     ]
    }
   ],
   "source": [
    "X_train, X_test, y_train, y_test = train_test_split(data, labels, random_state=1, test_size=.3)\n",
    "print(len(X_train))\n",
    "print(len(X_test))"
   ]
  },
  {
   "cell_type": "code",
   "execution_count": 5,
   "metadata": {},
   "outputs": [
    {
     "output_type": "stream",
     "name": "stdout",
     "text": [
      "0.04833256860718127\n"
     ]
    }
   ],
   "source": [
    "#First MLP!!!\n",
    "clf = MLPRegressor().fit(X_train, y_train)\n",
    "accuracy = clf.score(X_test, y_test)\n",
    "print(accuracy)"
   ]
  },
  {
   "cell_type": "code",
   "execution_count": 6,
   "metadata": {},
   "outputs": [
    {
     "output_type": "stream",
     "name": "stdout",
     "text": [
      "0.052895550040997\n"
     ]
    }
   ],
   "source": [
    "X_train, X_test, y_train, y_test = train_test_split(data, labels,\n",
    "                                                    random_state=1)\n",
    "regr = MLPRegressor(random_state=1, max_iter=500).fit(X_train, y_train)\n",
    "accuracy = clf.score(X_test, y_test)\n",
    "print(accuracy)"
   ]
  },
  {
   "cell_type": "code",
   "execution_count": 10,
   "metadata": {},
   "outputs": [
    {
     "output_type": "stream",
     "name": "stdout",
     "text": [
      "Indexis: [] Test index: 0 Acc: 0.001084746478716592\n",
      "Indexis: [] Test index: 1 Acc: 0.0010392673532420016\n",
      "Indexis: [] Test index: 2 Acc: 0.00054984925485424\n",
      "Indexis: [] Test index: 3 Acc: 0.0008463767808530864\n",
      "Indexis: [] Test index: 4 Acc: 0.03486347120366151\n",
      "Indexis: [] Test index: 5 Acc: 0.012034501391231078\n",
      "Indexis: [] Test index: 6 Acc: -2.8670607325143038e-05\n",
      "Indexis: [] Test index: 7 Acc: 9.357062897286106e-05\n",
      "Indexis: [] Test index: 8 Acc: 0.0014067604490776153\n",
      "Indexis: [] Test index: 9 Acc: 0.0019209344952062501\n",
      "Indexis: [] Test index: 10 Acc: 0.015705109147233665\n",
      "Indexis: [] Test index: 11 Acc: 3.599603615311864e-05\n",
      "Indexis: [] Test index: 12 Acc: -0.002493036299032969\n",
      "Indexis: [] Test index: 13 Acc: 0.0019811136532422724\n",
      "Indexis: [4] Test index: 0 Acc: 0.03627622123461283\n",
      "Indexis: [4] Test index: 1 Acc: 0.03388823236980054\n",
      "Indexis: [4] Test index: 2 Acc: 0.03529940829254663\n",
      "Indexis: [4] Test index: 3 Acc: 0.03518266906351886\n",
      "Indexis: [4] Test index: 5 Acc: 0.0426773077528555\n",
      "Indexis: [4] Test index: 6 Acc: 0.03478503444441228\n",
      "Indexis: [4] Test index: 7 Acc: 0.03548261213832227\n",
      "Indexis: [4] Test index: 8 Acc: 0.03538266989657213\n",
      "Indexis: [4] Test index: 9 Acc: 0.034624715881509394\n",
      "Indexis: [4] Test index: 10 Acc: 0.03722477535077984\n",
      "Indexis: [4] Test index: 11 Acc: 0.03468527905096974\n",
      "Indexis: [4] Test index: 12 Acc: 0.032502186748606166\n",
      "Indexis: [4] Test index: 13 Acc: 0.03918080632523291\n",
      "Indexis: [4, 5] Test index: 0 Acc: 0.04538980889368227\n",
      "Indexis: [4, 5] Test index: 1 Acc: 0.042293125248057506\n",
      "Indexis: [4, 5] Test index: 2 Acc: 0.04294025239730026\n",
      "Indexis: [4, 5] Test index: 3 Acc: 0.04521110056320321\n",
      "Indexis: [4, 5] Test index: 6 Acc: 0.04259436251460558\n",
      "Indexis: [4, 5] Test index: 7 Acc: 0.043681086784069456\n",
      "Indexis: [4, 5] Test index: 8 Acc: 0.04160288504388221\n",
      "Indexis: [4, 5] Test index: 9 Acc: 0.04312045398641784\n",
      "Indexis: [4, 5] Test index: 10 Acc: 0.04483089611427982\n",
      "Indexis: [4, 5] Test index: 11 Acc: 0.042576125435237144\n",
      "Indexis: [4, 5] Test index: 12 Acc: 0.04134998441364812\n",
      "Indexis: [4, 5] Test index: 13 Acc: 0.04837694468647724\n",
      "Indexis: [4, 5, 13] Test index: 0 Acc: 0.049588703178694016\n",
      "Indexis: [4, 5, 13] Test index: 1 Acc: 0.04796964376275825\n",
      "Indexis: [4, 5, 13] Test index: 2 Acc: 0.04894636282671205\n",
      "Indexis: [4, 5, 13] Test index: 3 Acc: 0.04872621130491506\n",
      "Indexis: [4, 5, 13] Test index: 6 Acc: 0.04769111294446571\n",
      "Indexis: [4, 5, 13] Test index: 7 Acc: 0.049739363156643956\n",
      "Indexis: [4, 5, 13] Test index: 8 Acc: 0.04844745795248118\n",
      "Indexis: [4, 5, 13] Test index: 9 Acc: 0.04838924751174245\n",
      "Indexis: [4, 5, 13] Test index: 10 Acc: 0.051481306855109654\n",
      "Indexis: [4, 5, 13] Test index: 11 Acc: 0.047680018112342015\n",
      "Indexis: [4, 5, 13] Test index: 12 Acc: 0.046119408894894964\n",
      "Indexis: [4, 5, 13, 10] Test index: 0 Acc: 0.05275574822497808\n",
      "Indexis: [4, 5, 13, 10] Test index: 1 Acc: 0.051311861990531504\n",
      "Indexis: [4, 5, 13, 10] Test index: 2 Acc: 0.05202949261772982\n",
      "Indexis: [4, 5, 13, 10] Test index: 3 Acc: 0.052588755767172146\n",
      "Indexis: [4, 5, 13, 10] Test index: 6 Acc: 0.05082407798034427\n",
      "Indexis: [4, 5, 13, 10] Test index: 7 Acc: 0.05335557125051971\n",
      "Indexis: [4, 5, 13, 10] Test index: 8 Acc: 0.05190745127002172\n",
      "Indexis: [4, 5, 13, 10] Test index: 9 Acc: 0.05107252767655712\n",
      "Indexis: [4, 5, 13, 10] Test index: 11 Acc: 0.0510628592581035\n",
      "Indexis: [4, 5, 13, 10] Test index: 12 Acc: 0.04984181305517721\n",
      "Indexis: [4, 5, 13, 10, 7] Test index: 0 Acc: 0.053017825354255144\n",
      "Indexis: [4, 5, 13, 10, 7] Test index: 1 Acc: 0.051891222172276597\n",
      "Indexis: [4, 5, 13, 10, 7] Test index: 2 Acc: 0.05328578439563591\n",
      "Indexis: [4, 5, 13, 10, 7] Test index: 3 Acc: 0.05217026319064899\n",
      "Indexis: [4, 5, 13, 10, 7] Test index: 6 Acc: 0.052075743941826784\n",
      "Indexis: [4, 5, 13, 10, 7] Test index: 8 Acc: 0.05328740923504549\n",
      "Indexis: [4, 5, 13, 10, 7] Test index: 9 Acc: 0.051510538157178765\n",
      "Indexis: [4, 5, 13, 10, 7] Test index: 11 Acc: 0.05257611233813975\n",
      "Indexis: [4, 5, 13, 10, 7] Test index: 12 Acc: 0.050893486096606044\n",
      "Indexis: [4, 5, 13, 10, 7, 7] Test index: 0 Acc: 0.05334858200343551\n",
      "Indexis: [4, 5, 13, 10, 7, 7] Test index: 1 Acc: 0.051751925093708295\n",
      "Indexis: [4, 5, 13, 10, 7, 7] Test index: 2 Acc: 0.05323185709947064\n",
      "Indexis: [4, 5, 13, 10, 7, 7] Test index: 3 Acc: 0.05244327995457643\n",
      "Indexis: [4, 5, 13, 10, 7, 7] Test index: 6 Acc: 0.052292831084107094\n",
      "Indexis: [4, 5, 13, 10, 7, 7] Test index: 8 Acc: 0.053128340395398266\n",
      "Indexis: [4, 5, 13, 10, 7, 7] Test index: 9 Acc: 0.05293026640542631\n",
      "Indexis: [4, 5, 13, 10, 7, 7] Test index: 11 Acc: 0.052901394421049686\n",
      "Indexis: [4, 5, 13, 10, 7, 7] Test index: 12 Acc: 0.050435455891917114\n",
      "Indexis: [4, 5, 13, 10, 7, 7, 7] Test index: 0 Acc: 0.053478808831274205\n",
      "Indexis: [4, 5, 13, 10, 7, 7, 7] Test index: 1 Acc: 0.0525276509376874\n",
      "Indexis: [4, 5, 13, 10, 7, 7, 7] Test index: 2 Acc: 0.053694516474425136\n",
      "Indexis: [4, 5, 13, 10, 7, 7, 7] Test index: 3 Acc: 0.05274992490236563\n",
      "Indexis: [4, 5, 13, 10, 7, 7, 7] Test index: 6 Acc: 0.052069922918931644\n",
      "Indexis: [4, 5, 13, 10, 7, 7, 7] Test index: 8 Acc: 0.05363095448743194\n",
      "Indexis: [4, 5, 13, 10, 7, 7, 7] Test index: 9 Acc: 0.05304241466718351\n",
      "Indexis: [4, 5, 13, 10, 7, 7, 7] Test index: 11 Acc: 0.05295650720711942\n",
      "Indexis: [4, 5, 13, 10, 7, 7, 7] Test index: 12 Acc: 0.05140423379520409\n",
      "Indexis: [4, 5, 13, 10, 7, 7, 7, 2] Test index: 0 Acc: 0.05314181060243506\n",
      "Indexis: [4, 5, 13, 10, 7, 7, 7, 2] Test index: 1 Acc: 0.052528987922927706\n",
      "Indexis: [4, 5, 13, 10, 7, 7, 7, 2] Test index: 3 Acc: 0.0521156354265534\n",
      "Indexis: [4, 5, 13, 10, 7, 7, 7, 2] Test index: 6 Acc: 0.05186244720834565\n",
      "Indexis: [4, 5, 13, 10, 7, 7, 7, 2] Test index: 8 Acc: 0.0514073673444182\n"
     ]
    }
   ],
   "source": [
    "X_train, X_test, y_train, y_test = train_test_split(data, labels,\n",
    "                                                    random_state=1)\n",
    "indexis = []\n",
    "accuracies = []\n",
    "index = -1\n",
    "max_accuracy = 0\n",
    "improved = False\n",
    "\n",
    "for iter in range(len(X_train[0]) - 1):\n",
    "    improved = False\n",
    "    if iter != 0:\n",
    "        X_train_subset = X_train[:,indexis[0]]\n",
    "        X_test_subset = X_test[:,indexis[0]]\n",
    "        X_train_subset = X_train_subset.reshape(-1, 1)\n",
    "        X_test_subset = X_test_subset.reshape(-1, 1)\n",
    "        for j in range(1, len(indexis)):\n",
    "            X_train_subset = np.concatenate((X_train_subset, X_train[:, indexis[j]].reshape(-1, 1)), axis=1)\n",
    "            X_test_subset = np.concatenate((X_test_subset, X_test[:, indexis[j]].reshape(-1, 1)), axis=1)\n",
    "    for i in range(len(X_train[0])):\n",
    "        if not i in indexis:\n",
    "            if iter == 0:\n",
    "                X_train_sub = X_train[:,i]\n",
    "                X_test_sub = X_test[:,i]\n",
    "                X_train_sub = X_train_sub.reshape(-1, 1)\n",
    "                X_test_sub = X_test_sub.reshape(-1, 1)\n",
    "            else:\n",
    "                X_train_sub = np.concatenate((X_train_subset, X_train[:,i].reshape(-1, 1)), axis=1)\n",
    "                X_test_sub =  np.concatenate(( X_test_subset,  X_test[:,i].reshape(-1, 1)), axis=1)\n",
    "\n",
    "            regr = MLPRegressor(random_state=1, max_iter=500).fit(X_train_sub, y_train)\n",
    "            accuracy = regr.score(X_test_sub, y_test)\n",
    "            print(\"Indexis: \" + str(indexis) + \" Test index: \" + str(i) + \" Acc: \" + str(accuracy))\n",
    "            if accuracy > max_accuracy:\n",
    "                improved = True\n",
    "                max_accuracy = accuracy\n",
    "                index = i\n",
    "    if not improved:\n",
    "        break\n",
    "    indexis.append(index)\n",
    "    accuracies.append(max_accuracy)\n"
   ]
  },
  {
   "cell_type": "code",
   "execution_count": null,
   "metadata": {},
   "outputs": [],
   "source": []
  }
 ]
}