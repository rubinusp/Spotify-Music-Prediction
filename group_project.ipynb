{
 "metadata": {
  "language_info": {
   "codemirror_mode": {
    "name": "ipython",
    "version": 3
   },
   "file_extension": ".py",
   "mimetype": "text/x-python",
   "name": "python",
   "nbconvert_exporter": "python",
   "pygments_lexer": "ipython3",
   "version": "3.6.8-final"
  },
  "orig_nbformat": 2,
  "kernelspec": {
   "name": "python3",
   "display_name": "Python 3"
  }
 },
 "nbformat": 4,
 "nbformat_minor": 2,
 "cells": [
  {
   "cell_type": "code",
   "execution_count": 1,
   "metadata": {},
   "outputs": [],
   "source": [
    "import dataextractor as de\n",
    "import numpy as np\n",
    "import matplotlib.pyplot as plt\n",
    "from sklearn.preprocessing import MinMaxScaler\n",
    "from sklearn.neural_network import MLPRegressor\n",
    "from sklearn.model_selection import train_test_split\n"
   ]
  },
  {
   "cell_type": "code",
   "execution_count": 2,
   "metadata": {},
   "outputs": [
    {
     "output_type": "stream",
     "name": "stdout",
     "text": [
      "7033\n15\n"
     ]
    }
   ],
   "source": [
    "extr = de.DataExtractor()\n",
    "data = extr.load_json().to_array()\n",
    "\n",
    "print(len(data))\n",
    "print(len(data[0]))\n",
    "\n",
    "# Acousticiness [0]\n",
    "# Dancibility [1]\n",
    "# Duration [2]\n",
    "# Energy [3]\n",
    "# Explicit [4]\n",
    "# Instrumentalness [5]\n",
    "# Key [6]\n",
    "# Liveness [7]\n",
    "# Loudness [8]\n",
    "# Mode [9]\n",
    "#d\n",
    "# Speechiness [11]\n",
    "# Tempo [12]\n",
    "# Time signature [13]\n",
    "# Valence [14]"
   ]
  },
  {
   "cell_type": "code",
   "execution_count": 3,
   "metadata": {},
   "outputs": [
    {
     "output_type": "stream",
     "name": "stdout",
     "text": [
      "[ 3.35000e-06  4.55000e-01  2.31826e+05  9.63000e-01  0.00000e+00\n  1.51000e-02  0.00000e+00  3.14000e-01 -3.08400e+00  1.00000e+00\n  3.43000e-02  1.44996e+02  4.00000e+00  7.88000e-01  0.00000e+00]\n[0.         0.47101449 0.23109722 0.96677406 0.         0.01526795\n 0.         0.31749242 0.91295173 1.         0.03668449 0.67121563\n 0.8        0.79515641]\n0.0\n"
     ]
    }
   ],
   "source": [
    "print(data[0])\n",
    "labels = data[:,-1]\n",
    "data = data[:,:-1]\n",
    "data = extr.normalize(data)\n",
    "print(data[0])\n",
    "print(labels[0])"
   ]
  },
  {
   "cell_type": "code",
   "execution_count": 8,
   "metadata": {},
   "outputs": [
    {
     "output_type": "stream",
     "name": "stdout",
     "text": [
      "4923\n2110\n"
     ]
    }
   ],
   "source": [
    "X_train, X_test, y_train, y_test = train_test_split(data, labels, random_state=1, test_size=.3)\n",
    "print(len(X_train))\n",
    "print(len(X_test))"
   ]
  },
  {
   "cell_type": "code",
   "execution_count": 9,
   "metadata": {},
   "outputs": [
    {
     "output_type": "stream",
     "name": "stdout",
     "text": [
      "0.046829837219138026\n"
     ]
    }
   ],
   "source": [
    "clf = MLPRegressor().fit(X_train, y_train)\n",
    "accuracy = clf.score(X_test, y_test)\n",
    "print(accuracy)"
   ]
  },
  {
   "cell_type": "code",
   "execution_count": 11,
   "metadata": {},
   "outputs": [
    {
     "output_type": "stream",
     "name": "stdout",
     "text": [
      "0.051342232880722594\n"
     ]
    }
   ],
   "source": [
    "X_train, X_test, y_train, y_test = train_test_split(data, labels,\n",
    "                                                    random_state=1)\n",
    "regr = MLPRegressor(random_state=1, max_iter=500).fit(X_train, y_train)\n",
    "accuracy = clf.score(X_test, y_test)\n",
    "print(accuracy)"
   ]
  },
  {
   "cell_type": "code",
   "execution_count": null,
   "metadata": {},
   "outputs": [],
   "source": []
  }
 ]
}