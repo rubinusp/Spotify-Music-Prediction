{
 "metadata": {
  "language_info": {
   "codemirror_mode": {
    "name": "ipython",
    "version": 3
   },
   "file_extension": ".py",
   "mimetype": "text/x-python",
   "name": "python",
   "nbconvert_exporter": "python",
   "pygments_lexer": "ipython3",
   "version": "3.6.8-final"
  },
  "orig_nbformat": 2,
  "kernelspec": {
   "name": "python3",
   "display_name": "Python 3"
  }
 },
 "nbformat": 4,
 "nbformat_minor": 2,
 "cells": [
  {
   "cell_type": "code",
   "execution_count": 1,
   "metadata": {},
   "outputs": [],
   "source": [
    "import dataextractor as de\n",
    "import numpy as np\n",
    "import matplotlib.pyplot as plt\n",
    "from sklearn.preprocessing import MinMaxScaler"
   ]
  },
  {
   "cell_type": "code",
   "execution_count": 2,
   "metadata": {},
   "outputs": [
    {
     "output_type": "stream",
     "name": "stdout",
     "text": [
      "7033\n15\n"
     ]
    }
   ],
   "source": [
    "extr = de.DataExtractor()\n",
    "arr = extr.load_json().to_array()\n",
    "\n",
    "print(len(arr))\n",
    "print(len(arr[0]))\n",
    "\n",
    "# Acousticiness [0]\n",
    "# Dancibility [1]\n",
    "# Duration [2]\n",
    "# Energy [3]\n",
    "# Explicit [4]\n",
    "# Instrumentalness [5]\n",
    "# Key [6]\n",
    "# Liveness [7]\n",
    "# Loudness [8]\n",
    "# Mode [9]\n",
    "#d\n",
    "# Speechiness [11]\n",
    "# Tempo [12]\n",
    "# Time signature [13]\n",
    "# Valence [14]"
   ]
  },
  {
   "cell_type": "code",
   "execution_count": 3,
   "metadata": {},
   "outputs": [
    {
     "output_type": "stream",
     "name": "stdout",
     "text": [
      "[ 3.35000e-06  4.55000e-01  2.31826e+05  9.63000e-01  0.00000e+00\n  1.51000e-02  0.00000e+00  3.14000e-01 -3.08400e+00  1.00000e+00\n  3.43000e-02  1.44996e+02  4.00000e+00  7.88000e-01  0.00000e+00]\n[ 3.35000e-06  4.55000e-01  2.31826e+05  9.63000e-01  0.00000e+00\n  1.51000e-02  0.00000e+00  3.14000e-01 -3.08400e+00  1.00000e+00\n  1.44996e+02  4.00000e+00  7.88000e-01  0.00000e+00  3.43000e-02]\n"
     ]
    }
   ],
   "source": [
    "data = arr\n",
    "print(data[0])"
   ]
  },
  {
   "cell_type": "code",
   "execution_count": null,
   "metadata": {},
   "outputs": [],
   "source": []
  }
 ]
}